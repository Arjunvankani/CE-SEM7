{
 "cells": [
  {
   "cell_type": "code",
   "execution_count": 1,
   "metadata": {},
   "outputs": [],
   "source": [
    "import pandas as pd \n",
    "from numpy import mean,std\n",
    "import sklearn\n",
    "from sklearn.datasets import load_digits\n",
    "import matplotlib.pyplot as plt"
   ]
  },
  {
   "cell_type": "code",
   "execution_count": 2,
   "metadata": {},
   "outputs": [],
   "source": [
    "digits = load_digits()\n",
    "X = digits.data\n",
    "y = digits.target"
   ]
  },
  {
   "cell_type": "code",
   "execution_count": 3,
   "metadata": {},
   "outputs": [],
   "source": [
    "from  sklearn.model_selection import KFold"
   ]
  },
  {
   "cell_type": "code",
   "execution_count": 4,
   "metadata": {},
   "outputs": [
    {
     "name": "stdout",
     "output_type": "stream",
     "text": [
      "Logistic Accuracy: nan (nan)\n",
      "SVM Accuracy: 0.982 (0.008)\n",
      "SVM Accuracy: 0.856 (0.023)\n",
      "Random Forest Accuracy: 0.974 (0.010)\n"
     ]
    }
   ],
   "source": [
    "from sklearn.model_selection import cross_val_score\n",
    "from sklearn.linear_model import LogisticRegression\n",
    "\n",
    "cv = KFold(n_splits=10, random_state=1, shuffle=True)\n",
    "logistic = LogisticRegression()\n",
    "scoresL = cross_val_score(logistic, X, y, scoring='accuracy', cv=cv, n_jobs=-1)\n",
    "print('Logistic Accuracy: %.3f (%.3f)' % (mean(scoresL), std(scoresL)))\n",
    "\n",
    "\n",
    "from sklearn.svm import SVC\n",
    "from sklearn.pipeline import make_pipeline\n",
    "from sklearn.preprocessing import StandardScaler\n",
    "\n",
    "cv = KFold(n_splits=10, random_state=1, shuffle=True)\n",
    "svc = make_pipeline(StandardScaler(), SVC(gamma='auto'))\n",
    "scoresS = cross_val_score(svc, X, y, scoring='accuracy', cv=cv, n_jobs=-1)\n",
    "print('SVM Accuracy: %.3f (%.3f)' % (mean(scoresS), std(scoresS)))\n",
    "\n",
    "\n",
    "from sklearn.tree import DecisionTreeClassifier\n",
    "\n",
    "cv = KFold(n_splits=10, random_state=1, shuffle=True)\n",
    "dt = DecisionTreeClassifier(random_state=0)\n",
    "scoresdt = cross_val_score(dt, X, y, scoring='accuracy', cv=cv, n_jobs=-1)\n",
    "print('SVM Accuracy: %.3f (%.3f)' % (mean(scoresdt), std(scoresdt)))\n",
    "\n",
    "\n",
    "from sklearn.ensemble import RandomForestClassifier\n",
    "cv = KFold(n_splits=10, random_state=1, shuffle=True)\n",
    "rf = RandomForestClassifier(random_state=0)\n",
    "scoresrf = cross_val_score(rf, X, y, scoring='accuracy', cv=cv, n_jobs=-1)\n",
    "print('Random Forest Accuracy: %.3f (%.3f)' % (mean(scoresrf), std(scoresrf)))                                             "
   ]
  },
  {
   "cell_type": "code",
   "execution_count": 13,
   "metadata": {},
   "outputs": [],
   "source": [
    "from  sklearn.model_selection import StratifiedKFold"
   ]
  },
  {
   "cell_type": "code",
   "execution_count": 14,
   "metadata": {},
   "outputs": [
    {
     "name": "stdout",
     "output_type": "stream",
     "text": [
      "Logistic Accuracy: 0.965 (0.011)\n",
      "SVM Accuracy: 0.982 (0.012)\n",
      "Decision Tree Accuracy: 0.853 (0.024)\n",
      "Random Forest Accuracy: 0.980 (0.007)\n"
     ]
    }
   ],
   "source": [
    "from sklearn.model_selection import cross_val_score\n",
    "from sklearn.linear_model import LogisticRegression\n",
    "\n",
    "cv = StratifiedKFold(n_splits=10, random_state=1, shuffle=True)\n",
    "logistic = LogisticRegression()\n",
    "scoresL = cross_val_score(logistic, X, y, scoring='accuracy', cv=cv, n_jobs=-1)\n",
    "print('Logistic Accuracy: %.3f (%.3f)' % (mean(scoresL), std(scoresL)))\n",
    "\n",
    "\n",
    "from sklearn.svm import SVC\n",
    "from sklearn.pipeline import make_pipeline\n",
    "from sklearn.preprocessing import StandardScaler\n",
    "\n",
    "cv = StratifiedKFold(n_splits=10, random_state=1, shuffle=True)\n",
    "svc = make_pipeline(StandardScaler(), SVC(gamma='auto'))\n",
    "scoresS = cross_val_score(svc, X, y, scoring='accuracy', cv=cv, n_jobs=-1)\n",
    "print('SVM Accuracy: %.3f (%.3f)' % (mean(scoresS), std(scoresS)))\n",
    "\n",
    "\n",
    "from sklearn.tree import DecisionTreeClassifier\n",
    "\n",
    "cv = StratifiedKFold(n_splits=10, random_state=1, shuffle=True)\n",
    "dt = DecisionTreeClassifier(random_state=0)\n",
    "scoresdt = cross_val_score(dt, X, y, scoring='accuracy', cv=cv, n_jobs=-1)\n",
    "print('Decision Tree Accuracy: %.3f (%.3f)' % (mean(scoresdt), std(scoresdt)))\n",
    "\n",
    "\n",
    "from sklearn.ensemble import RandomForestClassifier\n",
    "\n",
    "cv = StratifiedKFold(n_splits=10, random_state=1, shuffle=True)\n",
    "rf = RandomForestClassifier(random_state=0)\n",
    "scoresrf = cross_val_score(rf, X, y, scoring='accuracy', cv=cv, n_jobs=-1)\n",
    "print('Random Forest Accuracy: %.3f (%.3f)' % (mean(scoresrf), std(scoresrf)))"
   ]
  },
  {
   "cell_type": "code",
   "execution_count": null,
   "metadata": {},
   "outputs": [],
   "source": []
  }
 ],
 "metadata": {
  "kernelspec": {
   "display_name": "Python 3",
   "language": "python",
   "name": "python3"
  },
  "language_info": {
   "codemirror_mode": {
    "name": "ipython",
    "version": 3
   },
   "file_extension": ".py",
   "mimetype": "text/x-python",
   "name": "python",
   "nbconvert_exporter": "python",
   "pygments_lexer": "ipython3",
   "version": "3.7.8"
  }
 },
 "nbformat": 4,
 "nbformat_minor": 4
}
