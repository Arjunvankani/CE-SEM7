{
 "cells": [
  {
   "cell_type": "markdown",
   "id": "b5a348b5",
   "metadata": {},
   "source": [
    " <h1 align = \"center\">Implement Backpropogation Neural Network</h1>"
   ]
  },
  {
   "cell_type": "code",
   "execution_count": 1,
   "id": "76a8a4a9",
   "metadata": {},
   "outputs": [],
   "source": [
    "import numpy as np\n",
    "import time"
   ]
  },
  {
   "cell_type": "code",
   "execution_count": 2,
   "id": "b36e5700",
   "metadata": {},
   "outputs": [],
   "source": [
    "def initializeWeights(layers):\n",
    "    weights = [np.random.randn(o, i+1) for i, o in zip(layers[:-1], layers[1:])]\n",
    "    return weights\n",
    "\n",
    "def addBiasTerms(X):\n",
    "        X = np.array(X)\n",
    "        if X.ndim==1:\n",
    "            X = np.reshape(X, (1, len(X)))\n",
    "        X = np.insert(X, 0, 1, axis=1)\n",
    "        \n",
    "        return X\n"
   ]
  },
  {
   "cell_type": "code",
   "execution_count": 3,
   "id": "55f83462",
   "metadata": {},
   "outputs": [],
   "source": [
    "def sigmoid(a):\n",
    "    return 1/(1 + np.exp(-a))\n",
    "def forwardProp(X, weights):\n",
    "    outputs = []\n",
    "    inputs = X\n",
    "    \n",
    "    for w in weights:\n",
    "        inputs = addBiasTerms(inputs)\n",
    "        outputs.append(sigmoid(np.dot(inputs, w.T)))\n",
    "        inputs = outputs[-1]\n",
    "        \n",
    "    return outputs"
   ]
  },
  {
   "cell_type": "code",
   "execution_count": 4,
   "id": "94e434d8",
   "metadata": {},
   "outputs": [],
   "source": [
    "def nnCost(weights, X, Y):\n",
    "    yPred = forwardProp(X, weights)[-1]\n",
    "    J = 0.5*np.sum((yPred-Y)**2)/len(Y)\n",
    "    return J"
   ]
  },
  {
   "cell_type": "markdown",
   "id": "81fe7a79",
   "metadata": {},
   "source": [
    "#### Initialize network"
   ]
  },
  {
   "cell_type": "code",
   "execution_count": 5,
   "id": "d12bd3b7",
   "metadata": {},
   "outputs": [],
   "source": [
    "layers = [2, 2, 1]\n",
    "weights = initializeWeights(layers)"
   ]
  },
  {
   "cell_type": "code",
   "execution_count": 6,
   "id": "48af911b",
   "metadata": {},
   "outputs": [],
   "source": [
    "X = np.array([[0,0], [0,1], [1,0], [1,1]])\n",
    "Y = np.array([[0], [0], [0], [1]])"
   ]
  },
  {
   "cell_type": "code",
   "execution_count": 7,
   "id": "7c6ac945",
   "metadata": {},
   "outputs": [
    {
     "name": "stdout",
     "output_type": "stream",
     "text": [
      "0.25523604544501327\n"
     ]
    }
   ],
   "source": [
    "J = nnCost(weights, X, Y)\n",
    "print(J)"
   ]
  },
  {
   "cell_type": "code",
   "execution_count": 8,
   "id": "2ab91620",
   "metadata": {},
   "outputs": [
    {
     "name": "stdout",
     "output_type": "stream",
     "text": [
      "weights:\n",
      "1\n",
      "(2, 3)\n",
      "[[ 2.36751796  0.34798916 -1.17156387]\n",
      " [-0.06244016  0.71833303  0.2173351 ]]\n",
      "2\n",
      "(1, 3)\n",
      "[[0.64818689 1.2021787  0.89234995]]\n"
     ]
    }
   ],
   "source": [
    "layers = [2, 2, 1]\n",
    "weights = initializeWeights(layers)\n",
    "\n",
    "print(\"weights:\")\n",
    "for i in range(len(weights)):\n",
    "    print(i+1); print(weights[i].shape); print(weights[i])"
   ]
  },
  {
   "cell_type": "code",
   "execution_count": 9,
   "id": "3ea5d2a4",
   "metadata": {},
   "outputs": [],
   "source": [
    "X = np.array([[0,0], [0,1], [1,0], [1,1]])\n",
    "Y = np.array([[0], [0], [0], [1]])"
   ]
  },
  {
   "cell_type": "markdown",
   "id": "add7f0bb",
   "metadata": {},
   "source": [
    "#### Forward Propogation"
   ]
  },
  {
   "cell_type": "code",
   "execution_count": 10,
   "id": "98dc0593",
   "metadata": {},
   "outputs": [
    {
     "name": "stdout",
     "output_type": "stream",
     "text": [
      "outputs\n",
      "[array([[0.91431661, 0.48439503],\n",
      "       [0.76780426, 0.5386465 ],\n",
      "       [0.93793551, 0.65833718],\n",
      "       [0.82403723, 0.70541693]]), array([[0.89840336],\n",
      "       [0.88613805],\n",
      "       [0.91397931],\n",
      "       [0.90621789]])]\n"
     ]
    }
   ],
   "source": [
    "outputs = forwardProp(X, weights)\n",
    "print(\"outputs\"); print(outputs)"
   ]
  },
  {
   "cell_type": "code",
   "execution_count": 11,
   "id": "afd1831e",
   "metadata": {},
   "outputs": [
    {
     "name": "stdout",
     "output_type": "stream",
     "text": [
      "(4, 1)\n",
      "[[0.89840336]\n",
      " [0.88613805]\n",
      " [0.91397931]\n",
      " [0.90621789]]\n"
     ]
    }
   ],
   "source": [
    "yPred = outputs[-1]\n",
    "print(yPred.shape); print(yPred)"
   ]
  },
  {
   "cell_type": "code",
   "execution_count": 12,
   "id": "ba2c4fad",
   "metadata": {},
   "outputs": [
    {
     "name": "stdout",
     "output_type": "stream",
     "text": [
      "(4, 1)\n",
      "[[ 0.89840336]\n",
      " [ 0.88613805]\n",
      " [ 0.91397931]\n",
      " [-0.09378211]]\n"
     ]
    }
   ],
   "source": [
    "error = yPred - Y\n",
    "print(error.shape); print(error)"
   ]
  },
  {
   "cell_type": "code",
   "execution_count": 13,
   "id": "96a374cb",
   "metadata": {},
   "outputs": [
    {
     "name": "stdout",
     "output_type": "stream",
     "text": [
      "(4, 1)\n",
      "[[ 0.08200155]\n",
      " [ 0.08940903]\n",
      " [ 0.07185808]\n",
      " [-0.00797026]]\n"
     ]
    }
   ],
   "source": [
    "delta = np.multiply(np.multiply(error, yPred), 1-yPred)\n",
    "print(delta.shape); print(delta)"
   ]
  },
  {
   "cell_type": "code",
   "execution_count": 14,
   "id": "1e116e93",
   "metadata": {},
   "outputs": [
    {
     "name": "stdout",
     "output_type": "stream",
     "text": [
      "(4, 3)\n",
      "[[1.         0.91431661 0.48439503]\n",
      " [1.         0.76780426 0.5386465 ]\n",
      " [1.         0.93793551 0.65833718]\n",
      " [1.         0.82403723 0.70541693]]\n"
     ]
    }
   ],
   "source": [
    "xL = addBiasTerms(outputs[-2])\n",
    "print(xL.shape); print(xL)"
   ]
  },
  {
   "cell_type": "code",
   "execution_count": 15,
   "id": "7c30107e",
   "metadata": {},
   "outputs": [
    {
     "name": "stdout",
     "output_type": "stream",
     "text": [
      "(1, 3)\n",
      "[[-0.0588246  -0.05111362 -0.03239137]]\n"
     ]
    }
   ],
   "source": [
    "deltaW = -np.dot(delta.T, xL)/len(Y)\n",
    "print(deltaW.shape); print(deltaW)"
   ]
  },
  {
   "cell_type": "code",
   "execution_count": 16,
   "id": "fd84443c",
   "metadata": {},
   "outputs": [
    {
     "name": "stdout",
     "output_type": "stream",
     "text": [
      "old weights:\n",
      "1\n",
      "(2, 3)\n",
      "[[ 2.36751796  0.34798916 -1.17156387]\n",
      " [-0.06244016  0.71833303  0.2173351 ]]\n",
      "2\n",
      "(1, 3)\n",
      "[[0.64818689 1.2021787  0.89234995]]\n",
      "new weights:\n",
      "1\n",
      "(2, 3)\n",
      "[[ 2.36751796  0.34798916 -1.17156387]\n",
      " [-0.06244016  0.71833303  0.2173351 ]]\n",
      "2\n",
      "(1, 3)\n",
      "[[0.58936229 1.15106508 0.85995858]]\n",
      "old cost:\n",
      "0.30456531460044817\n",
      "new cost:\n",
      "0.29715513606516364\n"
     ]
    }
   ],
   "source": [
    "newWeights = [np.array(w) for w in weights]\n",
    "newWeights[-1] += deltaW\n",
    "\n",
    "print(\"old weights:\")\n",
    "for i in range(len(weights)):\n",
    "    print(i+1); print(weights[i].shape); print(weights[i])\n",
    "\n",
    "print(\"new weights:\")\n",
    "for i in range(len(newWeights)):\n",
    "    print(i+1); print(newWeights[i].shape); print(newWeights[i])\n",
    "\n",
    "print(\"old cost:\"); print(nnCost(weights, X, Y))\n",
    "print(\"new cost:\"); print(nnCost(newWeights, X, Y))"
   ]
  },
  {
   "cell_type": "markdown",
   "id": "5884ba24",
   "metadata": {},
   "source": [
    "### Backward Propagate"
   ]
  },
  {
   "cell_type": "code",
   "execution_count": 17,
   "id": "d92bdf31",
   "metadata": {},
   "outputs": [],
   "source": [
    "def backProp(weights, X, Y):\n",
    "    outputs = forwardProp(X, weights)\n",
    "    bpError = outputs[-1] - Y\n",
    "    \n",
    "    for l, w in enumerate(reversed(weights)):\n",
    "        yPred = outputs[-l-1]\n",
    "        delta = np.multiply(np.multiply(bpError, yPred), 1-yPred)\n",
    "        if l==len(weights)-1: \n",
    "            xL = addBiasTerms(X)\n",
    "        else:\n",
    "            xL = addBiasTerms(outputs[-l-2])\n",
    "        deltaW = -np.dot(delta.T, xL)/len(Y)\n",
    "        bpError = np.dot(delta, w)\n",
    "        \n",
    "    \n",
    "        bpError = bpError[:,1:]\n",
    "        w += deltaW"
   ]
  },
  {
   "cell_type": "code",
   "execution_count": 18,
   "id": "422fe0d3",
   "metadata": {},
   "outputs": [
    {
     "name": "stdout",
     "output_type": "stream",
     "text": [
      "old weights:\n",
      "1\n",
      "(2, 3)\n",
      "[[ 2.36751796  0.34798916 -1.17156387]\n",
      " [-0.06244016  0.71833303  0.2173351 ]]\n",
      "2\n",
      "(1, 3)\n",
      "[[0.64818689 1.2021787  0.89234995]]\n",
      "old cost:\n",
      "0.30456531460044817\n"
     ]
    }
   ],
   "source": [
    "oldWeights = [np.array(w) for w in weights]\n",
    "print(\"old weights:\")\n",
    "for i in range(len(oldWeights)):\n",
    "    print(i+1); print(oldWeights[i].shape); print(oldWeights[i])\n",
    "\n",
    "print(\"old cost:\"); print(nnCost(oldWeights, X, Y))"
   ]
  },
  {
   "cell_type": "code",
   "execution_count": 19,
   "id": "cfd63e9e",
   "metadata": {},
   "outputs": [],
   "source": [
    "def evaluate(weights, X, Y):\n",
    "    yPreds = forwardProp(X, weights)[-1]\n",
    "    yes = sum( int( ( np.argmax(yPreds[i]) == np.argmax(Y[i]) ) and \n",
    "                    ( (yPreds[i][np.argmax(yPreds[i])]>0.5) == (Y[i][np.argmax(Y[i])]>0.5) ) )\n",
    "              for i in range(len(Y)) )\n",
    "    print(str(yes)+\" out of \"+str(len(Y))+\" : \"+str(float(yes/len(Y))))"
   ]
  },
  {
   "cell_type": "code",
   "execution_count": 20,
   "id": "d04ae802",
   "metadata": {},
   "outputs": [
    {
     "name": "stdout",
     "output_type": "stream",
     "text": [
      "old cost: \n",
      "0.30456531460044817\n",
      "old accuracy: \n",
      "1 out of 4 : 0.25\n",
      "None\n",
      "0\n",
      "new cost:\n",
      "0.29687120530436817\n",
      "new accuracy: \n",
      "1 out of 4 : 0.25\n",
      "[[0.88644473]\n",
      " [0.87326854]\n",
      " [0.90303866]\n",
      " [0.8946026 ]]\n",
      "50\n",
      "new cost:\n",
      "0.0918103502238895\n",
      "new accuracy: \n",
      "3 out of 4 : 0.75\n",
      "[[0.25425217]\n",
      " [0.26542411]\n",
      " [0.26203135]\n",
      " [0.27148902]]\n",
      "100\n",
      "new cost:\n",
      "0.08920203125171583\n",
      "new accuracy: \n",
      "3 out of 4 : 0.75\n",
      "[[0.24300481]\n",
      " [0.26508431]\n",
      " [0.26165171]\n",
      " [0.28178443]]\n",
      "150\n",
      "new cost:\n",
      "0.08441640435879483\n",
      "new accuracy: \n",
      "3 out of 4 : 0.75\n",
      "[[0.2318955 ]\n",
      " [0.27460033]\n",
      " [0.26939195]\n",
      " [0.31182971]]\n",
      "200\n",
      "new cost:\n",
      "0.07524511305022599\n",
      "new accuracy: \n",
      "3 out of 4 : 0.75\n",
      "[[0.20691315]\n",
      " [0.28820308]\n",
      " [0.27481536]\n",
      " [0.36709926]]\n",
      "250\n",
      "new cost:\n",
      "0.060153673330147255\n",
      "new accuracy: \n",
      "3 out of 4 : 0.75\n",
      "[[0.15929546]\n",
      " [0.29785393]\n",
      " [0.26890173]\n",
      " [0.4570182 ]]\n",
      "300\n",
      "new cost:\n",
      "0.04552458605562147\n",
      "new accuracy: \n",
      "4 out of 4 : 1.0\n",
      "[[0.10595082]\n",
      " [0.28414665]\n",
      " [0.2509662 ]\n",
      " [0.54256393]]\n",
      "350\n",
      "new cost:\n",
      "0.03440029466787566\n",
      "new accuracy: \n",
      "4 out of 4 : 1.0\n",
      "[[0.06865351]\n",
      " [0.25325372]\n",
      " [0.23014074]\n",
      " [0.60835367]]\n",
      "400\n",
      "new cost:\n",
      "0.025992801663226636\n",
      "new accuracy: \n",
      "4 out of 4 : 1.0\n",
      "[[0.04595684]\n",
      " [0.21971059]\n",
      " [0.20881557]\n",
      " [0.66242972]]\n",
      "450\n",
      "new cost:\n",
      "0.01978161177629666\n",
      "new accuracy: \n",
      "4 out of 4 : 1.0\n",
      "[[0.03229624]\n",
      " [0.19028216]\n",
      " [0.1877701 ]\n",
      " [0.70717764]]\n",
      "500\n",
      "new cost:\n",
      "0.015285452003257028\n",
      "new accuracy: \n",
      "4 out of 4 : 1.0\n",
      "[[0.0238762 ]\n",
      " [0.1664047 ]\n",
      " [0.16822534]\n",
      " [0.74363453]]\n",
      "550\n",
      "new cost:\n",
      "0.01204594499142506\n",
      "new accuracy: \n",
      "4 out of 4 : 1.0\n",
      "[[0.01848545]\n",
      " [0.14740987]\n",
      " [0.15101708]\n",
      " [0.77308587]]\n",
      "600\n",
      "new cost:\n",
      "0.009693515414184705\n",
      "new accuracy: \n",
      "4 out of 4 : 1.0\n",
      "[[0.01488302]\n",
      " [0.13223245]\n",
      " [0.13634286]\n",
      " [0.79689456]]\n",
      "650\n",
      "new cost:\n",
      "0.007959152764946829\n",
      "new accuracy: \n",
      "4 out of 4 : 1.0\n",
      "[[0.01237241]\n",
      " [0.11995223]\n",
      " [0.12400102]\n",
      " [0.81627369]]\n",
      "700\n",
      "new cost:\n",
      "0.006656564231547742\n",
      "new accuracy: \n",
      "4 out of 4 : 1.0\n",
      "[[0.01055444]\n",
      " [0.10987249]\n",
      " [0.11364405]\n",
      " [0.83220791]]\n",
      "750\n",
      "new cost:\n",
      "0.005659131421816104\n",
      "new accuracy: \n",
      "4 out of 4 : 1.0\n",
      "[[0.00919302]\n",
      " [0.10148224]\n",
      " [0.10491681]\n",
      " [0.84546082]]\n",
      "800\n",
      "new cost:\n",
      "0.004880864679982148\n",
      "new accuracy: \n",
      "4 out of 4 : 1.0\n",
      "[[0.00814349]\n",
      " [0.09440694]\n",
      " [0.09750944]\n",
      " [0.85661297]]\n",
      "850\n",
      "new cost:\n",
      "0.004262835163647078\n",
      "new accuracy: \n",
      "4 out of 4 : 1.0\n",
      "[[0.00731402]\n",
      " [0.08836944]\n",
      " [0.09116864]\n",
      " [0.86610337]]\n",
      "900\n",
      "new cost:\n",
      "0.0037640856129708576\n",
      "new accuracy: \n",
      "4 out of 4 : 1.0\n",
      "[[0.00664433]\n",
      " [0.08316206]\n",
      " [0.08569302]\n",
      " [0.8742649 ]]\n",
      "950\n",
      "new cost:\n",
      "0.003355681157307929\n",
      "new accuracy: \n",
      "4 out of 4 : 1.0\n",
      "[[0.00609363]\n",
      " [0.0786271 ]\n",
      " [0.08092401]\n",
      " [0.88135178]]\n"
     ]
    }
   ],
   "source": [
    "weights = [np.array(w) for w in oldWeights]\n",
    "\n",
    "print(\"old cost: \"); print(nnCost(weights, X, Y))\n",
    "print(\"old accuracy: \"); print(evaluate(weights, X, Y))\n",
    "for i in range(1000):\n",
    "    backProp(weights, X, Y)\n",
    "    if i%50==0:\n",
    "        time.sleep(1)\n",
    "        print(i)\n",
    "        print(\"new cost:\"); print(nnCost(weights, X, Y))\n",
    "        print(\"new accuracy: \"); evaluate(weights, X, Y)\n",
    "        print(forwardProp(X, weights)[-1])"
   ]
  },
  {
   "cell_type": "code",
   "execution_count": null,
   "id": "e7fa5b03",
   "metadata": {},
   "outputs": [],
   "source": []
  }
 ],
 "metadata": {
  "kernelspec": {
   "display_name": "Python 3 (ipykernel)",
   "language": "python",
   "name": "python3"
  },
  "language_info": {
   "codemirror_mode": {
    "name": "ipython",
    "version": 3
   },
   "file_extension": ".py",
   "mimetype": "text/x-python",
   "name": "python",
   "nbconvert_exporter": "python",
   "pygments_lexer": "ipython3",
   "version": "3.7.8"
  }
 },
 "nbformat": 4,
 "nbformat_minor": 5
}
