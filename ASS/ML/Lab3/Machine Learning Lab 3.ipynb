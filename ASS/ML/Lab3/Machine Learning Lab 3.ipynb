{
 "cells": [
  {
   "cell_type": "markdown",
   "id": "34114b31",
   "metadata": {},
   "source": []
  },
  {
   "cell_type": "markdown",
   "id": "9fd30c6b",
   "metadata": {},
   "source": [
    "# Practical 3: Logistic,SVM,Decision Tree,Random Forest with sklearn and Kflod with sklearn"
   ]
  },
  {
   "cell_type": "code",
   "execution_count": 2,
   "id": "0a20ded0",
   "metadata": {},
   "outputs": [],
   "source": [
    "import pandas as pd \n",
    "from numpy import mean,std\n",
    "import sklearn\n",
    "from sklearn.datasets import load_digits\n",
    "import matplotlib.pyplot as plt"
   ]
  },
  {
   "cell_type": "code",
   "execution_count": 3,
   "id": "15ac42d0",
   "metadata": {},
   "outputs": [],
   "source": [
    "digits = load_digits()\n",
    "X = digits.data\n",
    "y = digits.target"
   ]
  },
  {
   "cell_type": "markdown",
   "id": "f0f0e0bf",
   "metadata": {},
   "source": [
    "# KFold Cross-validation"
   ]
  },
  {
   "cell_type": "markdown",
   "id": "1dd7fc97",
   "metadata": {},
   "source": [
    "That k-fold cross validation is a procedure used to estimate the skill of the model on new data.<br>\n",
    "There are common tactics that you can use to select the value of k for your dataset.<br>\n",
    "There are commonly used variations on cross-validation such as stratified and repeated that are available in scikit-learn."
   ]
  },
  {
   "cell_type": "code",
   "execution_count": 4,
   "id": "e3e4dc4f",
   "metadata": {},
   "outputs": [],
   "source": [
    "from  sklearn.model_selection import KFold\n",
    "from sklearn.model_selection import cross_val_score\n",
    "\n",
    "from sklearn.linear_model import LogisticRegression\n",
    "\n",
    "from sklearn.svm import SVC\n",
    "from sklearn.pipeline import make_pipeline\n",
    "from sklearn.preprocessing import StandardScaler\n",
    "\n",
    "from sklearn.tree import DecisionTreeClassifier\n",
    "\n",
    "from sklearn.ensemble import RandomForestClassifier"
   ]
  },
  {
   "cell_type": "markdown",
   "id": "ef2f00f5",
   "metadata": {},
   "source": [
    "<b> Logistic Regression "
   ]
  },
  {
   "cell_type": "code",
   "execution_count": 5,
   "id": "42b023f0",
   "metadata": {},
   "outputs": [
    {
     "name": "stdout",
     "output_type": "stream",
     "text": [
      "Logistic Accuracy: 0.968 (0.010)\n"
     ]
    }
   ],
   "source": [
    "cv = KFold(n_splits=10, random_state=1, shuffle=True)\n",
    "logistic = LogisticRegression()\n",
    "scoresL = cross_val_score(logistic, X, y, scoring='accuracy', cv=cv, n_jobs=-1)\n",
    "print('Logistic Accuracy: %.3f (%.3f)' % (mean(scoresL), std(scoresL)))"
   ]
  },
  {
   "cell_type": "markdown",
   "id": "17e5f4d1",
   "metadata": {},
   "source": [
    "<b>Support Vector Machine "
   ]
  },
  {
   "cell_type": "code",
   "execution_count": 6,
   "id": "4f17a38a",
   "metadata": {},
   "outputs": [
    {
     "name": "stdout",
     "output_type": "stream",
     "text": [
      "SVM Accuracy: 0.982 (0.008)\n"
     ]
    }
   ],
   "source": [
    "cv = KFold(n_splits=10, random_state=1, shuffle=True)\n",
    "svc = make_pipeline(StandardScaler(), SVC(gamma='auto'))\n",
    "scoresS = cross_val_score(svc, X, y, scoring='accuracy', cv=cv, n_jobs=-1)\n",
    "print('SVM Accuracy: %.3f (%.3f)' % (mean(scoresS), std(scoresS)))"
   ]
  },
  {
   "cell_type": "markdown",
   "id": "f8ab51e0",
   "metadata": {},
   "source": [
    "<b> Decision Tree"
   ]
  },
  {
   "cell_type": "code",
   "execution_count": 7,
   "id": "053d73f6",
   "metadata": {},
   "outputs": [
    {
     "name": "stdout",
     "output_type": "stream",
     "text": [
      "Decision Tree Accuracy: 0.856 (0.023)\n"
     ]
    }
   ],
   "source": [
    "cv = KFold(n_splits=10, random_state=1, shuffle=True)\n",
    "dt = DecisionTreeClassifier(random_state=0)\n",
    "scoresdt = cross_val_score(dt, X, y, scoring='accuracy', cv=cv, n_jobs=-1)\n",
    "print('Decision Tree Accuracy: %.3f (%.3f)' % (mean(scoresdt), std(scoresdt)))"
   ]
  },
  {
   "cell_type": "markdown",
   "id": "f6130a48",
   "metadata": {},
   "source": [
    "<b> Random Forest"
   ]
  },
  {
   "cell_type": "code",
   "execution_count": 8,
   "id": "7476ce65",
   "metadata": {},
   "outputs": [
    {
     "name": "stdout",
     "output_type": "stream",
     "text": [
      "Random Forest Accuracy: 0.974 (0.010)\n"
     ]
    }
   ],
   "source": [
    "cv = KFold(n_splits=10, random_state=1, shuffle=True)\n",
    "rf = RandomForestClassifier(random_state=0)\n",
    "scoresrf = cross_val_score(rf, X, y, scoring='accuracy', cv=cv, n_jobs=-1)\n",
    "print('Random Forest Accuracy: %.3f (%.3f)' % (mean(scoresrf), std(scoresrf)))               "
   ]
  },
  {
   "cell_type": "markdown",
   "id": "a970a2ac",
   "metadata": {},
   "source": [
    "# StratifiedKFold"
   ]
  },
  {
   "cell_type": "code",
   "execution_count": 9,
   "id": "00744fd9",
   "metadata": {},
   "outputs": [],
   "source": [
    "from  sklearn.model_selection import StratifiedKFold\n",
    "\n",
    "from sklearn.model_selection import cross_val_score\n",
    "from sklearn.linear_model import LogisticRegression\n",
    "\n",
    "from sklearn.svm import SVC\n",
    "from sklearn.pipeline import make_pipeline\n",
    "from sklearn.preprocessing import StandardScaler\n",
    "\n",
    "from sklearn.tree import DecisionTreeClassifier\n",
    "\n",
    "from sklearn.ensemble import RandomForestClassifier\n"
   ]
  },
  {
   "cell_type": "markdown",
   "id": "f76d99b7",
   "metadata": {},
   "source": [
    "<b>Logistic Regression with StratifiedKFold "
   ]
  },
  {
   "cell_type": "code",
   "execution_count": 10,
   "id": "2c929b9d",
   "metadata": {},
   "outputs": [
    {
     "name": "stdout",
     "output_type": "stream",
     "text": [
      "Logistic Accuracy: 0.965 (0.011)\n"
     ]
    }
   ],
   "source": [
    "cv = StratifiedKFold(n_splits=10, random_state=1, shuffle=True)\n",
    "logistic = LogisticRegression()\n",
    "scoresL = cross_val_score(logistic, X, y, scoring='accuracy', cv=cv, n_jobs=-1)\n",
    "print('Logistic Accuracy: %.3f (%.3f)' % (mean(scoresL), std(scoresL)))"
   ]
  },
  {
   "cell_type": "markdown",
   "id": "742100aa",
   "metadata": {},
   "source": [
    "<b>Support Vector Machine  with StratifiedKFold "
   ]
  },
  {
   "cell_type": "code",
   "execution_count": 11,
   "id": "c8eff467",
   "metadata": {},
   "outputs": [
    {
     "name": "stdout",
     "output_type": "stream",
     "text": [
      "SVM Accuracy: 0.982 (0.012)\n"
     ]
    }
   ],
   "source": [
    "cv = StratifiedKFold(n_splits=10, random_state=1, shuffle=True)\n",
    "svc = make_pipeline(StandardScaler(), SVC(gamma='auto'))\n",
    "scoresS = cross_val_score(svc, X, y, scoring='accuracy', cv=cv, n_jobs=-1)\n",
    "print('SVM Accuracy: %.3f (%.3f)' % (mean(scoresS), std(scoresS)))"
   ]
  },
  {
   "cell_type": "markdown",
   "id": "b6c9abac",
   "metadata": {},
   "source": [
    " <b> Decision Treen with StratifiedKFold "
   ]
  },
  {
   "cell_type": "code",
   "execution_count": 12,
   "id": "5992a492",
   "metadata": {},
   "outputs": [
    {
     "name": "stdout",
     "output_type": "stream",
     "text": [
      "Decision Tree Accuracy: 0.853 (0.024)\n"
     ]
    }
   ],
   "source": [
    "cv = StratifiedKFold(n_splits=10, random_state=1, shuffle=True)\n",
    "dt = DecisionTreeClassifier(random_state=0)\n",
    "scoresdt = cross_val_score(dt, X, y, scoring='accuracy', cv=cv, n_jobs=-1)\n",
    "print('Decision Tree Accuracy: %.3f (%.3f)' % (mean(scoresdt), std(scoresdt)))"
   ]
  },
  {
   "cell_type": "markdown",
   "id": "539c099f",
   "metadata": {},
   "source": [
    "<b> Random Forest with StratifiedKFold "
   ]
  },
  {
   "cell_type": "code",
   "execution_count": 13,
   "id": "ac3387f4",
   "metadata": {},
   "outputs": [
    {
     "name": "stdout",
     "output_type": "stream",
     "text": [
      "Random Forest Accuracy: 0.980 (0.007)\n"
     ]
    }
   ],
   "source": [
    "cv = StratifiedKFold(n_splits=10, random_state=1, shuffle=True)\n",
    "rf = RandomForestClassifier(random_state=0)\n",
    "scoresrf = cross_val_score(rf, X, y, scoring='accuracy', cv=cv, n_jobs=-1)\n",
    "print('Random Forest Accuracy: %.3f (%.3f)' % (mean(scoresrf), std(scoresrf)))"
   ]
  }
 ],
 "metadata": {
  "kernelspec": {
   "display_name": "Python 3",
   "language": "python",
   "name": "python3"
  },
  "language_info": {
   "codemirror_mode": {
    "name": "ipython",
    "version": 3
   },
   "file_extension": ".py",
   "mimetype": "text/x-python",
   "name": "python",
   "nbconvert_exporter": "python",
   "pygments_lexer": "ipython3",
   "version": "3.7.8"
  }
 },
 "nbformat": 4,
 "nbformat_minor": 5
}
